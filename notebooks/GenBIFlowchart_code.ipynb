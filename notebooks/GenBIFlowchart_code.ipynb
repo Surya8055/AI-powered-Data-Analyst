{
  "nbformat": 4,
  "nbformat_minor": 0,
  "metadata": {
    "colab": {
      "provenance": []
    },
    "kernelspec": {
      "name": "python3",
      "display_name": "Python 3"
    },
    "language_info": {
      "name": "python"
    }
  },
  "cells": [
    {
      "cell_type": "code",
      "execution_count": 1,
      "metadata": {
        "colab": {
          "base_uri": "https://localhost:8080/"
        },
        "id": "Os4jKhShWBxE",
        "outputId": "77998c85-530d-426e-c13d-0b0da2393249"
      },
      "outputs": [
        {
          "output_type": "stream",
          "name": "stdout",
          "text": [
            "Requirement already satisfied: graphviz in /usr/local/lib/python3.11/dist-packages (0.20.3)\n"
          ]
        }
      ],
      "source": [
        "!pip install graphviz\n"
      ]
    },
    {
      "cell_type": "code",
      "source": [
        "from graphviz import Digraph\n",
        "\n",
        "# Create a Digraph object\n",
        "flowchart = Digraph(\"AI_Data_Processing_Flowchart\", format=\"png\")\n",
        "\n",
        "# Define node attributes for bigger size\n",
        "node_attrs = {\n",
        "    \"shape\": \"box\",\n",
        "    \"style\": \"filled\",\n",
        "    \"fontsize\": \"20\",\n",
        "    \"width\": \"2\",\n",
        "    \"height\": \"1\",\n",
        "}\n",
        "\n",
        "# --- Nodes ---\n",
        "## User Upload\n",
        "flowchart.node(\"U\", \"User Uploads Cleaned Dataset\", **node_attrs, fillcolor=\"lightblue\")\n",
        "\n",
        "## Error Handling for Missing Values\n",
        "flowchart.node(\"CHECK_MISSING\", \"Check for Missing Values\", shape=\"diamond\", fontsize=\"20\", width=\"2.5\", height=\"1.2\", fillcolor=\"lightgray\")\n",
        "flowchart.node(\"ERROR\", \"Return Error if Missing Values Found\", **node_attrs, fillcolor=\"red\")\n",
        "\n",
        "## Column Formatting\n",
        "flowchart.node(\"COL_FORMAT\", \"Convert Columns into a Single String\", **node_attrs, fillcolor=\"lightgray\")\n",
        "\n",
        "## GPT Context Generation\n",
        "flowchart.node(\"GPT_CONTEXT\", \"Generate Context for Dataset\\n(using OpenAI GPT-3.5 Turbo)\", **node_attrs, fillcolor=\"lightcoral\")\n",
        "\n",
        "## Database Initialization\n",
        "flowchart.node(\"INIT_DB\", \"Initialize Database\\n(Store Dataset in SQL DB)\", **node_attrs, fillcolor=\"lightgray\")\n",
        "\n",
        "## User Query\n",
        "flowchart.node(\"USER_QUERY\", \"User Inputs Query\", **node_attrs, fillcolor=\"lightblue\")\n",
        "\n",
        "## Output Type Decision\n",
        "flowchart.node(\"OUTPUT_TYPE\", \"Select Output Type:\\nText or Visual\", shape=\"diamond\", fontsize=\"22\", width=\"3\", height=\"1.5\", fillcolor=\"yellow\")\n",
        "\n",
        "### Text-based Output Path\n",
        "flowchart.node(\"TEXT_DB\", \"Read Database for Info\", **node_attrs, fillcolor=\"lightgray\")\n",
        "flowchart.node(\"TEXT_LLM\", \"LLM Processes Query\", **node_attrs, fillcolor=\"lightgreen\")\n",
        "flowchart.node(\"TEXT_ANS\", \"Generate Text Answer\", **node_attrs, fillcolor=\"orange\")\n",
        "flowchart.node(\"TEXT_LOOP\", \"Return to User Query\", **node_attrs, fillcolor=\"lightblue\")\n",
        "\n",
        "### Visual-based Output Path\n",
        "flowchart.node(\"VIS_CONTEXT\", \"Refer GPT Context for Dataset\", **node_attrs, fillcolor=\"lightcoral\")\n",
        "flowchart.node(\"VIS_LLM\", \"LLM Processes Query\", **node_attrs, fillcolor=\"lightgreen\")\n",
        "flowchart.node(\"VIS_CODE\", \"Generate Python Code for Visualization\", **node_attrs, fillcolor=\"orange\")\n",
        "flowchart.node(\"VIS_EXEC\", \"Execute Code to Generate Visual\", **node_attrs, fillcolor=\"yellow\")\n",
        "flowchart.node(\"VIS_LOOP\", \"Return to User Query\", **node_attrs, fillcolor=\"lightblue\")\n",
        "\n",
        "## Future Scope\n",
        "flowchart.node(\"FUTURE\", \"Future Enhancements\\n(Memory, RAG, etc.)\", shape=\"diamond\", fontsize=\"22\", width=\"3\", height=\"1.5\", style=\"dashed\")\n",
        "\n",
        "# --- Edges ---\n",
        "## Upload Process\n",
        "flowchart.edge(\"U\", \"CHECK_MISSING\", label=\"Dataset Uploaded\", fontsize=\"18\")\n",
        "flowchart.edge(\"CHECK_MISSING\", \"ERROR\", label=\"If Missing Values Found\", fontsize=\"18\")\n",
        "flowchart.edge(\"CHECK_MISSING\", \"COL_FORMAT\", label=\"If No Missing Values\", fontsize=\"18\")\n",
        "\n",
        "## Data Processing\n",
        "flowchart.edge(\"COL_FORMAT\", \"GPT_CONTEXT\", label=\"Combine Column Names\", fontsize=\"18\")\n",
        "flowchart.edge(\"GPT_CONTEXT\", \"INIT_DB\", label=\"Store Generated Context\", fontsize=\"18\")\n",
        "flowchart.edge(\"INIT_DB\", \"USER_QUERY\", label=\"Database Initialized\", fontsize=\"18\")\n",
        "\n",
        "## Query & Output Flow\n",
        "flowchart.edge(\"USER_QUERY\", \"OUTPUT_TYPE\", label=\"User Enters Question\", fontsize=\"18\")\n",
        "\n",
        "## Text Output Path\n",
        "flowchart.edge(\"OUTPUT_TYPE\", \"TEXT_DB\", label=\"If Output Type = Text\", fontsize=\"18\")\n",
        "flowchart.edge(\"TEXT_DB\", \"TEXT_LLM\", label=\"Fetch Info\", fontsize=\"18\")\n",
        "flowchart.edge(\"TEXT_LLM\", \"TEXT_ANS\", label=\"Process Query\", fontsize=\"18\")\n",
        "flowchart.edge(\"TEXT_ANS\", \"TEXT_LOOP\", label=\"Generate Answer\", fontsize=\"18\")\n",
        "flowchart.edge(\"TEXT_LOOP\", \"USER_QUERY\", label=\"Loop Back\", fontsize=\"18\")\n",
        "\n",
        "## Visual Output Path\n",
        "flowchart.edge(\"OUTPUT_TYPE\", \"VIS_CONTEXT\", label=\"If Output Type = Visual\", fontsize=\"18\")\n",
        "flowchart.edge(\"VIS_CONTEXT\", \"VIS_LLM\", label=\"Refer Dataset Context\", fontsize=\"18\")\n",
        "flowchart.edge(\"VIS_LLM\", \"VIS_CODE\", label=\"Generate Visualization Code\", fontsize=\"18\")\n",
        "flowchart.edge(\"VIS_CODE\", \"VIS_EXEC\", label=\"Execute Code\", fontsize=\"18\")\n",
        "flowchart.edge(\"VIS_EXEC\", \"VIS_LOOP\", label=\"Display Graph\", fontsize=\"18\")\n",
        "flowchart.edge(\"VIS_LOOP\", \"USER_QUERY\", label=\"Loop Back\", fontsize=\"18\")\n",
        "\n",
        "## Future Enhancements\n",
        "flowchart.edge(\"USER_QUERY\", \"FUTURE\", label=\"Expand Capabilities\", fontsize=\"18\")\n",
        "\n",
        "# Render the flowchart\n",
        "flowchart.render(\"ai_data_processing_flowchart\", view=True)\n"
      ],
      "metadata": {
        "colab": {
          "base_uri": "https://localhost:8080/",
          "height": 36
        },
        "id": "UqXH52FdWGUH",
        "outputId": "d0afe5c3-f0aa-404a-ce01-80f0e36c3d00"
      },
      "execution_count": 4,
      "outputs": [
        {
          "output_type": "execute_result",
          "data": {
            "text/plain": [
              "'ai_data_processing_flowchart.png'"
            ],
            "application/vnd.google.colaboratory.intrinsic+json": {
              "type": "string"
            }
          },
          "metadata": {},
          "execution_count": 4
        }
      ]
    }
  ]
}